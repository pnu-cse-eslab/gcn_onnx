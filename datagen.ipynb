{
 "cells": [
  {
   "cell_type": "code",
   "execution_count": 2,
   "metadata": {},
   "outputs": [],
   "source": [
    "import numpy as np\n",
    "import pickle\n",
    "import pandas as pd"
   ]
  },
  {
   "cell_type": "code",
   "execution_count": 23,
   "metadata": {},
   "outputs": [],
   "source": [
    "train = np.load('/home/eslabkh/kh/dguha_dataset/dguha_pcl_ahc_train.npy')"
   ]
  },
  {
   "cell_type": "code",
   "execution_count": 5,
   "metadata": {},
   "outputs": [
    {
     "data": {
      "text/plain": [
       "(607, 3, 400, 25, 2)"
      ]
     },
     "execution_count": 5,
     "metadata": {},
     "output_type": "execute_result"
    }
   ],
   "source": [
    "train.shape"
   ]
  },
  {
   "cell_type": "code",
   "execution_count": 24,
   "metadata": {},
   "outputs": [
    {
     "data": {
      "text/plain": [
       "((607, 3, 400, 25, 2), 607)"
      ]
     },
     "execution_count": 24,
     "metadata": {},
     "output_type": "execute_result"
    }
   ],
   "source": [
    "label = pd.read_pickle('/home/eslabkh/kh/dguha_dataset/dguha_train_label.pkl')\n",
    "train.shape, len(label)"
   ]
  },
  {
   "cell_type": "code",
   "execution_count": 29,
   "metadata": {},
   "outputs": [],
   "source": [
    "t = []\n",
    "t2 = []\n",
    "l = []\n",
    "for i in range(0, len(train)):\n",
    "    for j in range(0, 200+1, 10):\n",
    "        t.append(train[i,:,j:j+200,:,:])\n",
    "        t2.append(train[i,:,j:j+200,:])\n",
    "        l.append(label[i])\n",
    "len(t), len(l)\n",
    "\n",
    "np.save('/home/eslabkh/kh/dguha_dataset/train_10s', t)\n",
    "np.save('/home/eslabkh/kh/dguha_dataset/train_10s_0', t2)\n",
    "with open('/home/eslabkh/kh/dguha_dataset/label_10s.pkl', 'wb') as f:\n",
    "    pickle.dump(l, f)\n"
   ]
  },
  {
   "cell_type": "code",
   "execution_count": 30,
   "metadata": {},
   "outputs": [
    {
     "data": {
      "text/plain": [
       "12747"
      ]
     },
     "execution_count": 30,
     "metadata": {},
     "output_type": "execute_result"
    }
   ],
   "source": [
    "t = np.load('/home/eslabkh/kh/dguha_dataset/train_10s.npy')\n",
    "t.shape\n",
    "t = pd.read_pickle('/home/eslabkh/kh/dguha_dataset/label_10s.pkl')\n",
    "len(t)"
   ]
  },
  {
   "cell_type": "code",
   "execution_count": null,
   "metadata": {},
   "outputs": [],
   "source": []
  }
 ],
 "metadata": {
  "kernelspec": {
   "display_name": "Python 3",
   "language": "python",
   "name": "python3"
  },
  "language_info": {
   "codemirror_mode": {
    "name": "ipython",
    "version": 3
   },
   "file_extension": ".py",
   "mimetype": "text/x-python",
   "name": "python",
   "nbconvert_exporter": "python",
   "pygments_lexer": "ipython3",
   "version": "3.10.12"
  }
 },
 "nbformat": 4,
 "nbformat_minor": 2
}
