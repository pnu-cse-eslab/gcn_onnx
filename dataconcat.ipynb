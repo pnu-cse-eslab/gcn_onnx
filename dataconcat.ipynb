{
 "cells": [
  {
   "cell_type": "code",
   "execution_count": 1,
   "metadata": {},
   "outputs": [],
   "source": [
    "import numpy as np "
   ]
  },
  {
   "cell_type": "code",
   "execution_count": 3,
   "metadata": {},
   "outputs": [
    {
     "data": {
      "text/plain": [
       "((607, 3, 400, 25, 2), (607, 3, 400, 25, 2), (607, 3, 400, 25, 2))"
      ]
     },
     "execution_count": 3,
     "metadata": {},
     "output_type": "execute_result"
    }
   ],
   "source": [
    "d1 = np.load('/home/eslabkh/kh/dguha_dataset/dguha_pcl_ahc_train.npy')\n",
    "d2 = np.load('/home/eslabkh/kh/dguha_dataset/dguha_pcl_gn_train.npy')\n",
    "d3 = np.load('/home/eslabkh/kh/dguha_dataset/dguha_pcl_zp_train.npy')\n",
    "\n",
    "d1.shape, d2.shape, d3.shape"
   ]
  },
  {
   "cell_type": "code",
   "execution_count": 10,
   "metadata": {},
   "outputs": [
    {
     "data": {
      "text/plain": [
       "(1821, 3, 400, 25, 2)"
      ]
     },
     "execution_count": 10,
     "metadata": {},
     "output_type": "execute_result"
    }
   ],
   "source": [
    "t = np.concatenate([d1, d2, d3], axis=0)\n",
    "t.shape"
   ]
  },
  {
   "cell_type": "code",
   "execution_count": 12,
   "metadata": {},
   "outputs": [],
   "source": [
    "import pickle5 as pickle"
   ]
  },
  {
   "cell_type": "code",
   "execution_count": 18,
   "metadata": {},
   "outputs": [
    {
     "data": {
      "text/plain": [
       "1821"
      ]
     },
     "execution_count": 18,
     "metadata": {},
     "output_type": "execute_result"
    }
   ],
   "source": [
    "with open('/home/eslabkh/kh/dguha_dataset/dguha_train_label.pkl', 'rb') as f:\n",
    "    label = pickle.load(f)\n",
    "    \n",
    "len(label*3)"
   ]
  },
  {
   "cell_type": "code",
   "execution_count": 28,
   "metadata": {},
   "outputs": [],
   "source": [
    "with open('/home/eslabkh/kh/dguha_dataset/dguha_all_label.pkl', 'wb') as f:\n",
    "    pickle.dump(label*3, f, pickle.HIGHEST_PROTOCOL)\n",
    "    "
   ]
  },
  {
   "cell_type": "code",
   "execution_count": 29,
   "metadata": {},
   "outputs": [
    {
     "data": {
      "text/plain": [
       "1821"
      ]
     },
     "execution_count": 29,
     "metadata": {},
     "output_type": "execute_result"
    }
   ],
   "source": [
    "with open('/home/eslabkh/kh/dguha_dataset/dguha_all_label.pkl', 'rb') as f:\n",
    "    tt = pickle.load(f)\n",
    "    \n",
    "len(tt)"
   ]
  },
  {
   "cell_type": "code",
   "execution_count": 26,
   "metadata": {},
   "outputs": [
    {
     "data": {
      "text/plain": [
       "(1821, 3, 400, 25, 2)"
      ]
     },
     "execution_count": 26,
     "metadata": {},
     "output_type": "execute_result"
    }
   ],
   "source": [
    "np.save('/home/eslabkh/kh/dguha_dataset/dguha_all_train.npy', t)\n",
    "\n",
    "pdpd = np.load('/home/eslabkh/kh/dguha_dataset/dguha_all_train.npy')\n",
    "pdpd.shape"
   ]
  },
  {
   "cell_type": "code",
   "execution_count": 31,
   "metadata": {},
   "outputs": [
    {
     "data": {
      "text/plain": [
       "483"
      ]
     },
     "execution_count": 31,
     "metadata": {},
     "output_type": "execute_result"
    }
   ],
   "source": [
    "with open('/home/eslabkh/kh/dguha_dataset/dguha_test_label.pkl', 'rb') as f:\n",
    "    tlabel = pickle.load(f)\n",
    "    \n",
    "len(tlabel*3)"
   ]
  },
  {
   "cell_type": "code",
   "execution_count": 32,
   "metadata": {},
   "outputs": [],
   "source": [
    "td1 = np.load('/home/eslabkh/kh/dguha_dataset/dguha_pcl_ahc_test.npy')\n",
    "td2 = np.load('/home/eslabkh/kh/dguha_dataset/dguha_pcl_gn_test.npy')\n",
    "td3 = np.load('/home/eslabkh/kh/dguha_dataset/dguha_pcl_zp_test.npy')\n",
    "\n",
    "at = np.concatenate([td1, td2, td3], axis=0)\n",
    "np.save('/home/eslabkh/kh/dguha_dataset/dguha_all_test.npy', at)\n"
   ]
  },
  {
   "cell_type": "code",
   "execution_count": 34,
   "metadata": {},
   "outputs": [],
   "source": [
    "with open('/home/eslabkh/kh/dguha_dataset/dguha_all_test_label.pkl', 'wb') as f:\n",
    "    pickle.dump(tlabel*3, f, pickle.HIGHEST_PROTOCOL)\n"
   ]
  },
  {
   "cell_type": "code",
   "execution_count": 97,
   "metadata": {},
   "outputs": [
    {
     "name": "stdout",
     "output_type": "stream",
     "text": [
      "0 1\n",
      "[1, 4] [3, 7]\n",
      "[[1, 4], [4, 5], [4, 8], [5, 12], [10, 14], [11, 13]]\n",
      "0 2\n",
      "[1, 4] [4, 8]\n",
      "1 2\n",
      "[4, 5] [4, 8]\n",
      "[[1, 4], [4, 5], [5, 12], [10, 14], [11, 13]]\n",
      "2 3\n",
      "[5, 12] [10, 14]\n",
      "[[1, 4], [4, 5], [5, 12], [11, 13]]\n"
     ]
    },
    {
     "data": {
      "text/plain": [
       "4"
      ]
     },
     "execution_count": 97,
     "metadata": {},
     "output_type": "execute_result"
    }
   ],
   "source": [
    "targets = [[4,5],[4,8],[10,14],[11,13],[5,12],[3,7],[1,4]]\t\n",
    "\n",
    "answer = 0\n",
    "\n",
    "targets.sort()\n",
    "for i in range(0, 500000):\n",
    "    if i >= len(targets):\n",
    "        break\n",
    "    current = targets[i]\n",
    "    answer += 1\n",
    "    for j in range(i+1, 500000):\n",
    "        if j >= len(targets):\n",
    "            break\n",
    "        if current[1] < targets[j][0]:\n",
    "            break\n",
    "        print(i, j)\n",
    "\n",
    "        print(current, targets[j])\n",
    "\n",
    "        if current[1] > targets[j][0] and current[1] < targets[j][1]:\n",
    "            targets.pop(j)\n",
    "            print(targets)\n",
    "            j=j-7\n",
    "answer\n"
   ]
  },
  {
   "cell_type": "code",
   "execution_count": 67,
   "metadata": {},
   "outputs": [
    {
     "name": "stdout",
     "output_type": "stream",
     "text": [
      "0\n",
      "1\n",
      "2\n",
      "3\n",
      "4\n",
      "5\n",
      "6\n",
      "7\n",
      "8\n",
      "9\n"
     ]
    }
   ],
   "source": [
    "for i in range(0, 10):\n",
    "    print(i)"
   ]
  }
 ],
 "metadata": {
  "kernelspec": {
   "display_name": "Python 3",
   "language": "python",
   "name": "python3"
  },
  "language_info": {
   "codemirror_mode": {
    "name": "ipython",
    "version": 3
   },
   "file_extension": ".py",
   "mimetype": "text/x-python",
   "name": "python",
   "nbconvert_exporter": "python",
   "pygments_lexer": "ipython3",
   "version": "3.10.12"
  }
 },
 "nbformat": 4,
 "nbformat_minor": 2
}
